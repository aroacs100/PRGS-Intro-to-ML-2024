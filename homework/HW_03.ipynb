{
 "cells": [
  {
   "cell_type": "markdown",
   "metadata": {},
   "source": [
    "# Homework 3"
   ]
  },
  {
   "cell_type": "markdown",
   "metadata": {},
   "source": [
    "# Due Date: 2024-10-30 at 8:30 AM PT"
   ]
  },
  {
   "cell_type": "markdown",
   "metadata": {},
   "source": [
    "# Name: Alejandro Roa "
   ]
  },
  {
   "cell_type": "markdown",
   "metadata": {},
   "source": [
    "# Homework - Principal Component Analysis"
   ]
  },
  {
   "cell_type": "markdown",
   "metadata": {},
   "source": [
    "#### The CDC Social Vulnerability Index (SVI) takes multiple differen population-level inputs (e.g., % of the population living in poverty, % of the population without health insurance) to identify particularly vulnerable counties. While the CDC SVI scores rely on adding up the percentiles of various characteristics, there are alternative indexes (e.g., [University of South Carolina SoVI index](https://sc.edu/study/colleges_schools/artsandsciences/centers_and_institutes/hvri/data_and_resources/sovi/index.php)) that use methods like PCA. Here, we are going to use the CDC SVI data to create an alternative index based on PCA."
   ]
  },
  {
   "cell_type": "markdown",
   "metadata": {},
   "source": [
    "#### 1. The following variables are used in the SVI:\n",
    "`EP_POV150, EP_UNEMP, EP_HBURD, EP_NOHSDP, EP_UNINSUR, EP_AGE65, EP_AGE17, EP_DISABL, EP_SNGPNT, EP_LIMENG, EP_MINRTY, EP_MUNIT, EP_MOBILE, EP_CROWD, EP_NOVEH, EP_GROUPQ, EP_NOINT`"
   ]
  },
  {
   "cell_type": "code",
   "execution_count": 33,
   "metadata": {},
   "outputs": [],
   "source": [
    "import pandas as pd"
   ]
  },
  {
   "cell_type": "code",
   "execution_count": 34,
   "metadata": {},
   "outputs": [],
   "source": [
    "merged_data = pd.read_csv('/Users/alejandroroacontreras/Library/CloudStorage/GoogleDrive-alejandro.roa.cs@gmail.com/Mi unidad/Pardee Rand Graduate School/Year 2/Introduction to ML/code/PRGS-Intro-to-ML-2024/data/processed/merged_data.csv', dtype={'FIPS':str})"
   ]
  },
  {
   "cell_type": "code",
   "execution_count": 35,
   "metadata": {},
   "outputs": [
    {
     "data": {
      "text/html": [
       "<div>\n",
       "<style scoped>\n",
       "    .dataframe tbody tr th:only-of-type {\n",
       "        vertical-align: middle;\n",
       "    }\n",
       "\n",
       "    .dataframe tbody tr th {\n",
       "        vertical-align: top;\n",
       "    }\n",
       "\n",
       "    .dataframe thead th {\n",
       "        text-align: right;\n",
       "    }\n",
       "</style>\n",
       "<table border=\"1\" class=\"dataframe\">\n",
       "  <thead>\n",
       "    <tr style=\"text-align: right;\">\n",
       "      <th></th>\n",
       "      <th>FIPS</th>\n",
       "      <th>AVLN_AFREQ</th>\n",
       "      <th>AVLN_RISKR</th>\n",
       "      <th>CFLD_AFREQ</th>\n",
       "      <th>CFLD_RISKR</th>\n",
       "      <th>CWAV_AFREQ</th>\n",
       "      <th>CWAV_RISKR</th>\n",
       "      <th>DRGT_AFREQ</th>\n",
       "      <th>DRGT_RISKR</th>\n",
       "      <th>ERQK_AFREQ</th>\n",
       "      <th>...</th>\n",
       "      <th>EP_NOVEH</th>\n",
       "      <th>EP_GROUPQ</th>\n",
       "      <th>EP_NOINT</th>\n",
       "      <th>EP_AFAM</th>\n",
       "      <th>EP_HISP</th>\n",
       "      <th>EP_ASIAN</th>\n",
       "      <th>EP_AIAN</th>\n",
       "      <th>EP_NHPI</th>\n",
       "      <th>EP_TWOMORE</th>\n",
       "      <th>EP_OTHERRACE</th>\n",
       "    </tr>\n",
       "  </thead>\n",
       "  <tbody>\n",
       "    <tr>\n",
       "      <th>0</th>\n",
       "      <td>01001</td>\n",
       "      <td>NaN</td>\n",
       "      <td>Not Applicable</td>\n",
       "      <td>NaN</td>\n",
       "      <td>Not Applicable</td>\n",
       "      <td>0.000000</td>\n",
       "      <td>No Rating</td>\n",
       "      <td>25.969774</td>\n",
       "      <td>Relatively Low</td>\n",
       "      <td>0.000431</td>\n",
       "      <td>...</td>\n",
       "      <td>4.0</td>\n",
       "      <td>0.9</td>\n",
       "      <td>10.9</td>\n",
       "      <td>19.6</td>\n",
       "      <td>3.2</td>\n",
       "      <td>1.1</td>\n",
       "      <td>0.1</td>\n",
       "      <td>0.0</td>\n",
       "      <td>3.3</td>\n",
       "      <td>0.2</td>\n",
       "    </tr>\n",
       "    <tr>\n",
       "      <th>1</th>\n",
       "      <td>01003</td>\n",
       "      <td>NaN</td>\n",
       "      <td>Not Applicable</td>\n",
       "      <td>3.684142</td>\n",
       "      <td>Relatively Low</td>\n",
       "      <td>0.000000</td>\n",
       "      <td>No Rating</td>\n",
       "      <td>12.353442</td>\n",
       "      <td>Relatively Moderate</td>\n",
       "      <td>0.000338</td>\n",
       "      <td>...</td>\n",
       "      <td>2.3</td>\n",
       "      <td>1.5</td>\n",
       "      <td>10.9</td>\n",
       "      <td>8.3</td>\n",
       "      <td>4.8</td>\n",
       "      <td>0.9</td>\n",
       "      <td>0.2</td>\n",
       "      <td>0.0</td>\n",
       "      <td>3.1</td>\n",
       "      <td>0.4</td>\n",
       "    </tr>\n",
       "    <tr>\n",
       "      <th>2</th>\n",
       "      <td>01005</td>\n",
       "      <td>NaN</td>\n",
       "      <td>Not Applicable</td>\n",
       "      <td>NaN</td>\n",
       "      <td>Not Applicable</td>\n",
       "      <td>0.000000</td>\n",
       "      <td>No Rating</td>\n",
       "      <td>43.956953</td>\n",
       "      <td>Relatively Low</td>\n",
       "      <td>0.000227</td>\n",
       "      <td>...</td>\n",
       "      <td>11.7</td>\n",
       "      <td>12.0</td>\n",
       "      <td>31.8</td>\n",
       "      <td>46.9</td>\n",
       "      <td>4.8</td>\n",
       "      <td>0.5</td>\n",
       "      <td>0.3</td>\n",
       "      <td>0.0</td>\n",
       "      <td>1.8</td>\n",
       "      <td>1.2</td>\n",
       "    </tr>\n",
       "    <tr>\n",
       "      <th>3</th>\n",
       "      <td>01007</td>\n",
       "      <td>NaN</td>\n",
       "      <td>Not Applicable</td>\n",
       "      <td>NaN</td>\n",
       "      <td>Not Applicable</td>\n",
       "      <td>0.000000</td>\n",
       "      <td>No Rating</td>\n",
       "      <td>28.894501</td>\n",
       "      <td>Very Low</td>\n",
       "      <td>0.000790</td>\n",
       "      <td>...</td>\n",
       "      <td>7.5</td>\n",
       "      <td>6.4</td>\n",
       "      <td>20.2</td>\n",
       "      <td>20.7</td>\n",
       "      <td>2.9</td>\n",
       "      <td>0.3</td>\n",
       "      <td>0.1</td>\n",
       "      <td>0.0</td>\n",
       "      <td>1.7</td>\n",
       "      <td>0.1</td>\n",
       "    </tr>\n",
       "    <tr>\n",
       "      <th>4</th>\n",
       "      <td>01009</td>\n",
       "      <td>NaN</td>\n",
       "      <td>Not Applicable</td>\n",
       "      <td>NaN</td>\n",
       "      <td>Not Applicable</td>\n",
       "      <td>0.000000</td>\n",
       "      <td>No Rating</td>\n",
       "      <td>28.152598</td>\n",
       "      <td>Relatively Low</td>\n",
       "      <td>0.000817</td>\n",
       "      <td>...</td>\n",
       "      <td>4.8</td>\n",
       "      <td>1.0</td>\n",
       "      <td>16.9</td>\n",
       "      <td>1.2</td>\n",
       "      <td>9.7</td>\n",
       "      <td>0.2</td>\n",
       "      <td>0.1</td>\n",
       "      <td>0.2</td>\n",
       "      <td>2.8</td>\n",
       "      <td>0.1</td>\n",
       "    </tr>\n",
       "    <tr>\n",
       "      <th>...</th>\n",
       "      <td>...</td>\n",
       "      <td>...</td>\n",
       "      <td>...</td>\n",
       "      <td>...</td>\n",
       "      <td>...</td>\n",
       "      <td>...</td>\n",
       "      <td>...</td>\n",
       "      <td>...</td>\n",
       "      <td>...</td>\n",
       "      <td>...</td>\n",
       "      <td>...</td>\n",
       "      <td>...</td>\n",
       "      <td>...</td>\n",
       "      <td>...</td>\n",
       "      <td>...</td>\n",
       "      <td>...</td>\n",
       "      <td>...</td>\n",
       "      <td>...</td>\n",
       "      <td>...</td>\n",
       "      <td>...</td>\n",
       "      <td>...</td>\n",
       "    </tr>\n",
       "    <tr>\n",
       "      <th>995</th>\n",
       "      <td>20195</td>\n",
       "      <td>NaN</td>\n",
       "      <td>Not Applicable</td>\n",
       "      <td>NaN</td>\n",
       "      <td>Not Applicable</td>\n",
       "      <td>0.495356</td>\n",
       "      <td>Relatively Low</td>\n",
       "      <td>35.636364</td>\n",
       "      <td>Relatively Low</td>\n",
       "      <td>0.000149</td>\n",
       "      <td>...</td>\n",
       "      <td>2.8</td>\n",
       "      <td>2.5</td>\n",
       "      <td>14.4</td>\n",
       "      <td>0.1</td>\n",
       "      <td>0.8</td>\n",
       "      <td>0.4</td>\n",
       "      <td>0.1</td>\n",
       "      <td>0.0</td>\n",
       "      <td>2.0</td>\n",
       "      <td>0.0</td>\n",
       "    </tr>\n",
       "    <tr>\n",
       "      <th>996</th>\n",
       "      <td>20197</td>\n",
       "      <td>NaN</td>\n",
       "      <td>Not Applicable</td>\n",
       "      <td>NaN</td>\n",
       "      <td>Not Applicable</td>\n",
       "      <td>0.371517</td>\n",
       "      <td>Relatively Low</td>\n",
       "      <td>18.454545</td>\n",
       "      <td>Relatively Low</td>\n",
       "      <td>0.000219</td>\n",
       "      <td>...</td>\n",
       "      <td>2.3</td>\n",
       "      <td>1.7</td>\n",
       "      <td>18.3</td>\n",
       "      <td>1.0</td>\n",
       "      <td>4.9</td>\n",
       "      <td>0.7</td>\n",
       "      <td>0.2</td>\n",
       "      <td>0.1</td>\n",
       "      <td>2.7</td>\n",
       "      <td>0.0</td>\n",
       "    </tr>\n",
       "    <tr>\n",
       "      <th>997</th>\n",
       "      <td>20199</td>\n",
       "      <td>NaN</td>\n",
       "      <td>Not Applicable</td>\n",
       "      <td>NaN</td>\n",
       "      <td>Not Applicable</td>\n",
       "      <td>0.866873</td>\n",
       "      <td>Relatively Moderate</td>\n",
       "      <td>60.454545</td>\n",
       "      <td>Relatively Moderate</td>\n",
       "      <td>0.000118</td>\n",
       "      <td>...</td>\n",
       "      <td>4.1</td>\n",
       "      <td>1.5</td>\n",
       "      <td>11.8</td>\n",
       "      <td>0.7</td>\n",
       "      <td>6.8</td>\n",
       "      <td>0.6</td>\n",
       "      <td>0.3</td>\n",
       "      <td>0.0</td>\n",
       "      <td>2.5</td>\n",
       "      <td>0.0</td>\n",
       "    </tr>\n",
       "    <tr>\n",
       "      <th>998</th>\n",
       "      <td>20201</td>\n",
       "      <td>NaN</td>\n",
       "      <td>Not Applicable</td>\n",
       "      <td>NaN</td>\n",
       "      <td>Not Applicable</td>\n",
       "      <td>0.433437</td>\n",
       "      <td>Relatively Low</td>\n",
       "      <td>5.500386</td>\n",
       "      <td>Relatively Low</td>\n",
       "      <td>0.000150</td>\n",
       "      <td>...</td>\n",
       "      <td>3.0</td>\n",
       "      <td>2.4</td>\n",
       "      <td>26.8</td>\n",
       "      <td>0.2</td>\n",
       "      <td>4.4</td>\n",
       "      <td>0.7</td>\n",
       "      <td>0.3</td>\n",
       "      <td>0.0</td>\n",
       "      <td>1.6</td>\n",
       "      <td>0.5</td>\n",
       "    </tr>\n",
       "    <tr>\n",
       "      <th>999</th>\n",
       "      <td>20203</td>\n",
       "      <td>NaN</td>\n",
       "      <td>Not Applicable</td>\n",
       "      <td>NaN</td>\n",
       "      <td>Not Applicable</td>\n",
       "      <td>0.804954</td>\n",
       "      <td>Very High</td>\n",
       "      <td>56.636364</td>\n",
       "      <td>Relatively Moderate</td>\n",
       "      <td>0.000137</td>\n",
       "      <td>...</td>\n",
       "      <td>1.5</td>\n",
       "      <td>1.1</td>\n",
       "      <td>6.8</td>\n",
       "      <td>0.7</td>\n",
       "      <td>24.9</td>\n",
       "      <td>0.0</td>\n",
       "      <td>0.1</td>\n",
       "      <td>0.0</td>\n",
       "      <td>2.1</td>\n",
       "      <td>0.2</td>\n",
       "    </tr>\n",
       "  </tbody>\n",
       "</table>\n",
       "<p>1000 rows × 69 columns</p>\n",
       "</div>"
      ],
      "text/plain": [
       "      FIPS  AVLN_AFREQ      AVLN_RISKR  CFLD_AFREQ      CFLD_RISKR  \\\n",
       "0    01001         NaN  Not Applicable         NaN  Not Applicable   \n",
       "1    01003         NaN  Not Applicable    3.684142  Relatively Low   \n",
       "2    01005         NaN  Not Applicable         NaN  Not Applicable   \n",
       "3    01007         NaN  Not Applicable         NaN  Not Applicable   \n",
       "4    01009         NaN  Not Applicable         NaN  Not Applicable   \n",
       "..     ...         ...             ...         ...             ...   \n",
       "995  20195         NaN  Not Applicable         NaN  Not Applicable   \n",
       "996  20197         NaN  Not Applicable         NaN  Not Applicable   \n",
       "997  20199         NaN  Not Applicable         NaN  Not Applicable   \n",
       "998  20201         NaN  Not Applicable         NaN  Not Applicable   \n",
       "999  20203         NaN  Not Applicable         NaN  Not Applicable   \n",
       "\n",
       "     CWAV_AFREQ           CWAV_RISKR  DRGT_AFREQ           DRGT_RISKR  \\\n",
       "0      0.000000            No Rating   25.969774       Relatively Low   \n",
       "1      0.000000            No Rating   12.353442  Relatively Moderate   \n",
       "2      0.000000            No Rating   43.956953       Relatively Low   \n",
       "3      0.000000            No Rating   28.894501             Very Low   \n",
       "4      0.000000            No Rating   28.152598       Relatively Low   \n",
       "..          ...                  ...         ...                  ...   \n",
       "995    0.495356       Relatively Low   35.636364       Relatively Low   \n",
       "996    0.371517       Relatively Low   18.454545       Relatively Low   \n",
       "997    0.866873  Relatively Moderate   60.454545  Relatively Moderate   \n",
       "998    0.433437       Relatively Low    5.500386       Relatively Low   \n",
       "999    0.804954            Very High   56.636364  Relatively Moderate   \n",
       "\n",
       "     ERQK_AFREQ  ... EP_NOVEH  EP_GROUPQ EP_NOINT  EP_AFAM EP_HISP  EP_ASIAN  \\\n",
       "0      0.000431  ...      4.0        0.9     10.9     19.6     3.2       1.1   \n",
       "1      0.000338  ...      2.3        1.5     10.9      8.3     4.8       0.9   \n",
       "2      0.000227  ...     11.7       12.0     31.8     46.9     4.8       0.5   \n",
       "3      0.000790  ...      7.5        6.4     20.2     20.7     2.9       0.3   \n",
       "4      0.000817  ...      4.8        1.0     16.9      1.2     9.7       0.2   \n",
       "..          ...  ...      ...        ...      ...      ...     ...       ...   \n",
       "995    0.000149  ...      2.8        2.5     14.4      0.1     0.8       0.4   \n",
       "996    0.000219  ...      2.3        1.7     18.3      1.0     4.9       0.7   \n",
       "997    0.000118  ...      4.1        1.5     11.8      0.7     6.8       0.6   \n",
       "998    0.000150  ...      3.0        2.4     26.8      0.2     4.4       0.7   \n",
       "999    0.000137  ...      1.5        1.1      6.8      0.7    24.9       0.0   \n",
       "\n",
       "    EP_AIAN  EP_NHPI EP_TWOMORE  EP_OTHERRACE  \n",
       "0       0.1      0.0        3.3           0.2  \n",
       "1       0.2      0.0        3.1           0.4  \n",
       "2       0.3      0.0        1.8           1.2  \n",
       "3       0.1      0.0        1.7           0.1  \n",
       "4       0.1      0.2        2.8           0.1  \n",
       "..      ...      ...        ...           ...  \n",
       "995     0.1      0.0        2.0           0.0  \n",
       "996     0.2      0.1        2.7           0.0  \n",
       "997     0.3      0.0        2.5           0.0  \n",
       "998     0.3      0.0        1.6           0.5  \n",
       "999     0.1      0.0        2.1           0.2  \n",
       "\n",
       "[1000 rows x 69 columns]"
      ]
     },
     "execution_count": 35,
     "metadata": {},
     "output_type": "execute_result"
    }
   ],
   "source": [
    "merged_data.head(1000)"
   ]
  },
  {
   "cell_type": "code",
   "execution_count": 36,
   "metadata": {},
   "outputs": [],
   "source": [
    "merge_columns_selection = ['EP_POV150', 'EP_UNEMP', 'EP_HBURD', 'EP_NOHSDP', 'EP_UNINSUR', 'EP_AGE65', 'EP_AGE17', 'EP_SNGPNT', 'EP_LIMENG', \n",
    "                      'EP_MINRTY', 'EP_MUNIT', 'EP_MOBILE', 'EP_CROWD', 'EP_NOVEH', 'EP_GROUPQ', 'EP_NOINT']"
   ]
  },
  {
   "cell_type": "code",
   "execution_count": 37,
   "metadata": {},
   "outputs": [],
   "source": [
    "subset_merge = merged_data[merge_columns_selection]"
   ]
  },
  {
   "cell_type": "code",
   "execution_count": 38,
   "metadata": {},
   "outputs": [
    {
     "data": {
      "text/html": [
       "<div>\n",
       "<style scoped>\n",
       "    .dataframe tbody tr th:only-of-type {\n",
       "        vertical-align: middle;\n",
       "    }\n",
       "\n",
       "    .dataframe tbody tr th {\n",
       "        vertical-align: top;\n",
       "    }\n",
       "\n",
       "    .dataframe thead th {\n",
       "        text-align: right;\n",
       "    }\n",
       "</style>\n",
       "<table border=\"1\" class=\"dataframe\">\n",
       "  <thead>\n",
       "    <tr style=\"text-align: right;\">\n",
       "      <th></th>\n",
       "      <th>EP_POV150</th>\n",
       "      <th>EP_UNEMP</th>\n",
       "      <th>EP_HBURD</th>\n",
       "      <th>EP_NOHSDP</th>\n",
       "      <th>EP_UNINSUR</th>\n",
       "      <th>EP_AGE65</th>\n",
       "      <th>EP_AGE17</th>\n",
       "      <th>EP_SNGPNT</th>\n",
       "      <th>EP_LIMENG</th>\n",
       "      <th>EP_MINRTY</th>\n",
       "      <th>EP_MUNIT</th>\n",
       "      <th>EP_MOBILE</th>\n",
       "      <th>EP_CROWD</th>\n",
       "      <th>EP_NOVEH</th>\n",
       "      <th>EP_GROUPQ</th>\n",
       "      <th>EP_NOINT</th>\n",
       "    </tr>\n",
       "  </thead>\n",
       "  <tbody>\n",
       "    <tr>\n",
       "      <th>0</th>\n",
       "      <td>20.2</td>\n",
       "      <td>2.8</td>\n",
       "      <td>19.7</td>\n",
       "      <td>9.6</td>\n",
       "      <td>7.4</td>\n",
       "      <td>15.6</td>\n",
       "      <td>23.4</td>\n",
       "      <td>5.6</td>\n",
       "      <td>0.4</td>\n",
       "      <td>27.4</td>\n",
       "      <td>3.9</td>\n",
       "      <td>15.6</td>\n",
       "      <td>1.4</td>\n",
       "      <td>4.0</td>\n",
       "      <td>0.9</td>\n",
       "      <td>10.9</td>\n",
       "    </tr>\n",
       "    <tr>\n",
       "      <th>1</th>\n",
       "      <td>18.3</td>\n",
       "      <td>3.4</td>\n",
       "      <td>23.2</td>\n",
       "      <td>8.4</td>\n",
       "      <td>9.3</td>\n",
       "      <td>21.2</td>\n",
       "      <td>21.2</td>\n",
       "      <td>4.2</td>\n",
       "      <td>0.8</td>\n",
       "      <td>17.7</td>\n",
       "      <td>16.6</td>\n",
       "      <td>10.2</td>\n",
       "      <td>1.9</td>\n",
       "      <td>2.3</td>\n",
       "      <td>1.5</td>\n",
       "      <td>10.9</td>\n",
       "    </tr>\n",
       "    <tr>\n",
       "      <th>2</th>\n",
       "      <td>37.7</td>\n",
       "      <td>5.8</td>\n",
       "      <td>25.1</td>\n",
       "      <td>23.5</td>\n",
       "      <td>10.7</td>\n",
       "      <td>19.8</td>\n",
       "      <td>20.7</td>\n",
       "      <td>11.3</td>\n",
       "      <td>2.0</td>\n",
       "      <td>55.4</td>\n",
       "      <td>1.4</td>\n",
       "      <td>29.2</td>\n",
       "      <td>3.8</td>\n",
       "      <td>11.7</td>\n",
       "      <td>12.0</td>\n",
       "      <td>31.8</td>\n",
       "    </tr>\n",
       "    <tr>\n",
       "      <th>3</th>\n",
       "      <td>29.0</td>\n",
       "      <td>8.7</td>\n",
       "      <td>23.2</td>\n",
       "      <td>21.1</td>\n",
       "      <td>8.4</td>\n",
       "      <td>16.8</td>\n",
       "      <td>21.2</td>\n",
       "      <td>7.2</td>\n",
       "      <td>0.3</td>\n",
       "      <td>25.8</td>\n",
       "      <td>2.7</td>\n",
       "      <td>30.6</td>\n",
       "      <td>1.3</td>\n",
       "      <td>7.5</td>\n",
       "      <td>6.4</td>\n",
       "      <td>20.2</td>\n",
       "    </tr>\n",
       "    <tr>\n",
       "      <th>4</th>\n",
       "      <td>22.9</td>\n",
       "      <td>6.0</td>\n",
       "      <td>19.4</td>\n",
       "      <td>18.2</td>\n",
       "      <td>10.2</td>\n",
       "      <td>18.3</td>\n",
       "      <td>23.0</td>\n",
       "      <td>5.3</td>\n",
       "      <td>2.2</td>\n",
       "      <td>14.3</td>\n",
       "      <td>0.9</td>\n",
       "      <td>23.9</td>\n",
       "      <td>2.3</td>\n",
       "      <td>4.8</td>\n",
       "      <td>1.0</td>\n",
       "      <td>16.9</td>\n",
       "    </tr>\n",
       "    <tr>\n",
       "      <th>...</th>\n",
       "      <td>...</td>\n",
       "      <td>...</td>\n",
       "      <td>...</td>\n",
       "      <td>...</td>\n",
       "      <td>...</td>\n",
       "      <td>...</td>\n",
       "      <td>...</td>\n",
       "      <td>...</td>\n",
       "      <td>...</td>\n",
       "      <td>...</td>\n",
       "      <td>...</td>\n",
       "      <td>...</td>\n",
       "      <td>...</td>\n",
       "      <td>...</td>\n",
       "      <td>...</td>\n",
       "      <td>...</td>\n",
       "    </tr>\n",
       "    <tr>\n",
       "      <th>995</th>\n",
       "      <td>14.4</td>\n",
       "      <td>2.6</td>\n",
       "      <td>13.6</td>\n",
       "      <td>5.5</td>\n",
       "      <td>7.7</td>\n",
       "      <td>27.6</td>\n",
       "      <td>18.8</td>\n",
       "      <td>2.8</td>\n",
       "      <td>0.0</td>\n",
       "      <td>3.4</td>\n",
       "      <td>2.8</td>\n",
       "      <td>3.2</td>\n",
       "      <td>0.0</td>\n",
       "      <td>2.8</td>\n",
       "      <td>2.5</td>\n",
       "      <td>14.4</td>\n",
       "    </tr>\n",
       "    <tr>\n",
       "      <th>996</th>\n",
       "      <td>11.2</td>\n",
       "      <td>3.0</td>\n",
       "      <td>15.1</td>\n",
       "      <td>3.4</td>\n",
       "      <td>8.1</td>\n",
       "      <td>21.0</td>\n",
       "      <td>23.2</td>\n",
       "      <td>3.4</td>\n",
       "      <td>0.2</td>\n",
       "      <td>9.6</td>\n",
       "      <td>0.9</td>\n",
       "      <td>5.8</td>\n",
       "      <td>2.0</td>\n",
       "      <td>2.3</td>\n",
       "      <td>1.7</td>\n",
       "      <td>18.3</td>\n",
       "    </tr>\n",
       "    <tr>\n",
       "      <th>997</th>\n",
       "      <td>25.4</td>\n",
       "      <td>2.2</td>\n",
       "      <td>9.5</td>\n",
       "      <td>7.4</td>\n",
       "      <td>4.4</td>\n",
       "      <td>24.8</td>\n",
       "      <td>23.4</td>\n",
       "      <td>0.6</td>\n",
       "      <td>1.2</td>\n",
       "      <td>10.9</td>\n",
       "      <td>1.2</td>\n",
       "      <td>6.3</td>\n",
       "      <td>1.8</td>\n",
       "      <td>4.1</td>\n",
       "      <td>1.5</td>\n",
       "      <td>11.8</td>\n",
       "    </tr>\n",
       "    <tr>\n",
       "      <th>998</th>\n",
       "      <td>15.9</td>\n",
       "      <td>1.8</td>\n",
       "      <td>12.3</td>\n",
       "      <td>6.5</td>\n",
       "      <td>5.6</td>\n",
       "      <td>23.8</td>\n",
       "      <td>22.7</td>\n",
       "      <td>3.5</td>\n",
       "      <td>1.4</td>\n",
       "      <td>7.7</td>\n",
       "      <td>1.0</td>\n",
       "      <td>2.6</td>\n",
       "      <td>2.1</td>\n",
       "      <td>3.0</td>\n",
       "      <td>2.4</td>\n",
       "      <td>26.8</td>\n",
       "    </tr>\n",
       "    <tr>\n",
       "      <th>999</th>\n",
       "      <td>23.8</td>\n",
       "      <td>2.3</td>\n",
       "      <td>20.0</td>\n",
       "      <td>11.8</td>\n",
       "      <td>8.0</td>\n",
       "      <td>23.2</td>\n",
       "      <td>23.7</td>\n",
       "      <td>3.7</td>\n",
       "      <td>3.7</td>\n",
       "      <td>28.1</td>\n",
       "      <td>0.5</td>\n",
       "      <td>11.1</td>\n",
       "      <td>3.9</td>\n",
       "      <td>1.5</td>\n",
       "      <td>1.1</td>\n",
       "      <td>6.8</td>\n",
       "    </tr>\n",
       "  </tbody>\n",
       "</table>\n",
       "<p>1000 rows × 16 columns</p>\n",
       "</div>"
      ],
      "text/plain": [
       "     EP_POV150  EP_UNEMP  EP_HBURD  EP_NOHSDP  EP_UNINSUR  EP_AGE65  EP_AGE17  \\\n",
       "0         20.2       2.8      19.7        9.6         7.4      15.6      23.4   \n",
       "1         18.3       3.4      23.2        8.4         9.3      21.2      21.2   \n",
       "2         37.7       5.8      25.1       23.5        10.7      19.8      20.7   \n",
       "3         29.0       8.7      23.2       21.1         8.4      16.8      21.2   \n",
       "4         22.9       6.0      19.4       18.2        10.2      18.3      23.0   \n",
       "..         ...       ...       ...        ...         ...       ...       ...   \n",
       "995       14.4       2.6      13.6        5.5         7.7      27.6      18.8   \n",
       "996       11.2       3.0      15.1        3.4         8.1      21.0      23.2   \n",
       "997       25.4       2.2       9.5        7.4         4.4      24.8      23.4   \n",
       "998       15.9       1.8      12.3        6.5         5.6      23.8      22.7   \n",
       "999       23.8       2.3      20.0       11.8         8.0      23.2      23.7   \n",
       "\n",
       "     EP_SNGPNT  EP_LIMENG  EP_MINRTY  EP_MUNIT  EP_MOBILE  EP_CROWD  EP_NOVEH  \\\n",
       "0          5.6        0.4       27.4       3.9       15.6       1.4       4.0   \n",
       "1          4.2        0.8       17.7      16.6       10.2       1.9       2.3   \n",
       "2         11.3        2.0       55.4       1.4       29.2       3.8      11.7   \n",
       "3          7.2        0.3       25.8       2.7       30.6       1.3       7.5   \n",
       "4          5.3        2.2       14.3       0.9       23.9       2.3       4.8   \n",
       "..         ...        ...        ...       ...        ...       ...       ...   \n",
       "995        2.8        0.0        3.4       2.8        3.2       0.0       2.8   \n",
       "996        3.4        0.2        9.6       0.9        5.8       2.0       2.3   \n",
       "997        0.6        1.2       10.9       1.2        6.3       1.8       4.1   \n",
       "998        3.5        1.4        7.7       1.0        2.6       2.1       3.0   \n",
       "999        3.7        3.7       28.1       0.5       11.1       3.9       1.5   \n",
       "\n",
       "     EP_GROUPQ  EP_NOINT  \n",
       "0          0.9      10.9  \n",
       "1          1.5      10.9  \n",
       "2         12.0      31.8  \n",
       "3          6.4      20.2  \n",
       "4          1.0      16.9  \n",
       "..         ...       ...  \n",
       "995        2.5      14.4  \n",
       "996        1.7      18.3  \n",
       "997        1.5      11.8  \n",
       "998        2.4      26.8  \n",
       "999        1.1       6.8  \n",
       "\n",
       "[1000 rows x 16 columns]"
      ]
     },
     "execution_count": 38,
     "metadata": {},
     "output_type": "execute_result"
    }
   ],
   "source": [
    "subset_merge.head(1000)"
   ]
  },
  {
   "cell_type": "code",
   "execution_count": 39,
   "metadata": {},
   "outputs": [],
   "source": [
    "###Missing values per column and row checkup "
   ]
  },
  {
   "cell_type": "code",
   "execution_count": 40,
   "metadata": {},
   "outputs": [],
   "source": [
    "missing_column = subset_merge.isnull().sum(axis=0)"
   ]
  },
  {
   "cell_type": "code",
   "execution_count": 41,
   "metadata": {},
   "outputs": [],
   "source": [
    "missing_rows = subset_merge.isnull().sum(axis=1)"
   ]
  },
  {
   "cell_type": "code",
   "execution_count": 42,
   "metadata": {},
   "outputs": [
    {
     "data": {
      "text/plain": [
       "EP_POV150     96\n",
       "EP_UNEMP      96\n",
       "EP_HBURD      96\n",
       "EP_NOHSDP     96\n",
       "EP_UNINSUR    96\n",
       "EP_AGE65      96\n",
       "EP_AGE17      96\n",
       "EP_SNGPNT     96\n",
       "EP_LIMENG     96\n",
       "EP_MINRTY     96\n",
       "EP_MUNIT      96\n",
       "EP_MOBILE     96\n",
       "EP_CROWD      96\n",
       "EP_NOVEH      96\n",
       "EP_GROUPQ     96\n",
       "EP_NOINT      96\n",
       "dtype: int64"
      ]
     },
     "execution_count": 42,
     "metadata": {},
     "output_type": "execute_result"
    }
   ],
   "source": [
    "missing_column"
   ]
  },
  {
   "cell_type": "code",
   "execution_count": 43,
   "metadata": {},
   "outputs": [
    {
     "data": {
      "text/plain": [
       "0        0\n",
       "1        0\n",
       "2        0\n",
       "3        0\n",
       "4        0\n",
       "        ..\n",
       "3235    16\n",
       "3236    16\n",
       "3237    16\n",
       "3238    16\n",
       "3239    16\n",
       "Length: 3240, dtype: int64"
      ]
     },
     "execution_count": 43,
     "metadata": {},
     "output_type": "execute_result"
    }
   ],
   "source": [
    "missing_rows"
   ]
  },
  {
   "cell_type": "code",
   "execution_count": 44,
   "metadata": {},
   "outputs": [],
   "source": [
    "###Entire rows or columns checkup"
   ]
  },
  {
   "cell_type": "code",
   "execution_count": 45,
   "metadata": {},
   "outputs": [],
   "source": [
    "comp_missing_column = missing_column[missing_column == subset_merge.shape[0]]\n",
    "comp_missing_row = missing_rows[missing_rows == subset_merge.shape[1]]"
   ]
  },
  {
   "cell_type": "code",
   "execution_count": 46,
   "metadata": {},
   "outputs": [
    {
     "data": {
      "text/plain": [
       "Series([], dtype: int64)"
      ]
     },
     "execution_count": 46,
     "metadata": {},
     "output_type": "execute_result"
    }
   ],
   "source": [
    "comp_missing_column"
   ]
  },
  {
   "cell_type": "code",
   "execution_count": 47,
   "metadata": {},
   "outputs": [
    {
     "data": {
      "text/plain": [
       "309     16\n",
       "310     16\n",
       "311     16\n",
       "312     16\n",
       "313     16\n",
       "        ..\n",
       "3235    16\n",
       "3236    16\n",
       "3237    16\n",
       "3238    16\n",
       "3239    16\n",
       "Length: 96, dtype: int64"
      ]
     },
     "execution_count": 47,
     "metadata": {},
     "output_type": "execute_result"
    }
   ],
   "source": [
    "comp_missing_row"
   ]
  },
  {
   "cell_type": "code",
   "execution_count": 48,
   "metadata": {},
   "outputs": [],
   "source": [
    "missing_summary = {\n",
    "    'missing_columns': comp_missing_column.index.tolist(),\n",
    "    'missing_rows': comp_missing_row.index.tolist(),\n",
    "    'scattered_missing': subset_merge.isnull().any(axis=1).sum(),\n",
    "    'total_rows': subset_merge.shape[0],\n",
    "    'total_columns': subset_merge.shape[1]\n",
    "}"
   ]
  },
  {
   "cell_type": "code",
   "execution_count": 49,
   "metadata": {},
   "outputs": [
    {
     "data": {
      "text/plain": [
       "{'missing_columns': [],\n",
       " 'missing_rows': [309,\n",
       "  310,\n",
       "  311,\n",
       "  312,\n",
       "  313,\n",
       "  314,\n",
       "  315,\n",
       "  316,\n",
       "  3152,\n",
       "  3153,\n",
       "  3154,\n",
       "  3155,\n",
       "  3156,\n",
       "  3157,\n",
       "  3158,\n",
       "  3159,\n",
       "  3160,\n",
       "  3161,\n",
       "  3162,\n",
       "  3163,\n",
       "  3164,\n",
       "  3165,\n",
       "  3166,\n",
       "  3167,\n",
       "  3168,\n",
       "  3169,\n",
       "  3170,\n",
       "  3171,\n",
       "  3172,\n",
       "  3173,\n",
       "  3174,\n",
       "  3175,\n",
       "  3176,\n",
       "  3177,\n",
       "  3178,\n",
       "  3179,\n",
       "  3180,\n",
       "  3181,\n",
       "  3182,\n",
       "  3183,\n",
       "  3184,\n",
       "  3185,\n",
       "  3186,\n",
       "  3187,\n",
       "  3188,\n",
       "  3189,\n",
       "  3190,\n",
       "  3191,\n",
       "  3192,\n",
       "  3193,\n",
       "  3194,\n",
       "  3195,\n",
       "  3196,\n",
       "  3197,\n",
       "  3198,\n",
       "  3199,\n",
       "  3200,\n",
       "  3201,\n",
       "  3202,\n",
       "  3203,\n",
       "  3204,\n",
       "  3205,\n",
       "  3206,\n",
       "  3207,\n",
       "  3208,\n",
       "  3209,\n",
       "  3210,\n",
       "  3211,\n",
       "  3212,\n",
       "  3213,\n",
       "  3214,\n",
       "  3215,\n",
       "  3216,\n",
       "  3217,\n",
       "  3218,\n",
       "  3219,\n",
       "  3220,\n",
       "  3221,\n",
       "  3222,\n",
       "  3223,\n",
       "  3224,\n",
       "  3225,\n",
       "  3226,\n",
       "  3227,\n",
       "  3228,\n",
       "  3229,\n",
       "  3230,\n",
       "  3231,\n",
       "  3232,\n",
       "  3233,\n",
       "  3234,\n",
       "  3235,\n",
       "  3236,\n",
       "  3237,\n",
       "  3238,\n",
       "  3239],\n",
       " 'scattered_missing': np.int64(96),\n",
       " 'total_rows': 3240,\n",
       " 'total_columns': 16}"
      ]
     },
     "execution_count": 49,
     "metadata": {},
     "output_type": "execute_result"
    }
   ],
   "source": [
    "missing_summary"
   ]
  },
  {
   "cell_type": "markdown",
   "metadata": {},
   "source": [
    "#### Are missing observations scattered throughout the data or are entire rows or columns missing?\n"
   ]
  },
  {
   "cell_type": "markdown",
   "metadata": {},
   "source": [
    "It's a combination of both. Some rows are completely empty, while the scattered missing values are also present but not widespread. Overall, I detected approximately 96 rows that have at least one missing value. I didn't find missing columns"
   ]
  },
  {
   "cell_type": "markdown",
   "metadata": {},
   "source": [
    "#### b. PCA cannot handle missing values by default.\n",
    "#### There are several options for handling missing data generally, including imputation, removing rows with missing data, or removing columns with missing data. Deal with the missing data in a way that makes sense for the pattern of missing data and the goals of the analysis. Explain why you made this decision. Note: How you handle this is specific to the missing data pattern and the goals of the analysis. For example, when entire rows or columns are missing, imputation may not be appropriate and dropping those rows or columns is usually the best option. Conversely, if you have a general missingness pattern where missing observations are scattered throughout the data, imputation is likely the best option."
   ]
  },
  {
   "cell_type": "code",
   "execution_count": 50,
   "metadata": {},
   "outputs": [],
   "source": [
    "cleaned_data = subset_merge.dropna(how='all')\n"
   ]
  },
  {
   "cell_type": "code",
   "execution_count": 51,
   "metadata": {},
   "outputs": [],
   "source": [
    "imputed_data=cleaned_data.fillna(cleaned_data.mean())"
   ]
  },
  {
   "cell_type": "code",
   "execution_count": 52,
   "metadata": {},
   "outputs": [
    {
     "data": {
      "text/html": [
       "<div>\n",
       "<style scoped>\n",
       "    .dataframe tbody tr th:only-of-type {\n",
       "        vertical-align: middle;\n",
       "    }\n",
       "\n",
       "    .dataframe tbody tr th {\n",
       "        vertical-align: top;\n",
       "    }\n",
       "\n",
       "    .dataframe thead th {\n",
       "        text-align: right;\n",
       "    }\n",
       "</style>\n",
       "<table border=\"1\" class=\"dataframe\">\n",
       "  <thead>\n",
       "    <tr style=\"text-align: right;\">\n",
       "      <th></th>\n",
       "      <th>EP_POV150</th>\n",
       "      <th>EP_UNEMP</th>\n",
       "      <th>EP_HBURD</th>\n",
       "      <th>EP_NOHSDP</th>\n",
       "      <th>EP_UNINSUR</th>\n",
       "      <th>EP_AGE65</th>\n",
       "      <th>EP_AGE17</th>\n",
       "      <th>EP_SNGPNT</th>\n",
       "      <th>EP_LIMENG</th>\n",
       "      <th>EP_MINRTY</th>\n",
       "      <th>EP_MUNIT</th>\n",
       "      <th>EP_MOBILE</th>\n",
       "      <th>EP_CROWD</th>\n",
       "      <th>EP_NOVEH</th>\n",
       "      <th>EP_GROUPQ</th>\n",
       "      <th>EP_NOINT</th>\n",
       "    </tr>\n",
       "  </thead>\n",
       "  <tbody>\n",
       "    <tr>\n",
       "      <th>0</th>\n",
       "      <td>20.2</td>\n",
       "      <td>2.8</td>\n",
       "      <td>19.7</td>\n",
       "      <td>9.6</td>\n",
       "      <td>7.4</td>\n",
       "      <td>15.6</td>\n",
       "      <td>23.4</td>\n",
       "      <td>5.6</td>\n",
       "      <td>0.4</td>\n",
       "      <td>27.4</td>\n",
       "      <td>3.9</td>\n",
       "      <td>15.6</td>\n",
       "      <td>1.4</td>\n",
       "      <td>4.0</td>\n",
       "      <td>0.9</td>\n",
       "      <td>10.9</td>\n",
       "    </tr>\n",
       "    <tr>\n",
       "      <th>1</th>\n",
       "      <td>18.3</td>\n",
       "      <td>3.4</td>\n",
       "      <td>23.2</td>\n",
       "      <td>8.4</td>\n",
       "      <td>9.3</td>\n",
       "      <td>21.2</td>\n",
       "      <td>21.2</td>\n",
       "      <td>4.2</td>\n",
       "      <td>0.8</td>\n",
       "      <td>17.7</td>\n",
       "      <td>16.6</td>\n",
       "      <td>10.2</td>\n",
       "      <td>1.9</td>\n",
       "      <td>2.3</td>\n",
       "      <td>1.5</td>\n",
       "      <td>10.9</td>\n",
       "    </tr>\n",
       "    <tr>\n",
       "      <th>2</th>\n",
       "      <td>37.7</td>\n",
       "      <td>5.8</td>\n",
       "      <td>25.1</td>\n",
       "      <td>23.5</td>\n",
       "      <td>10.7</td>\n",
       "      <td>19.8</td>\n",
       "      <td>20.7</td>\n",
       "      <td>11.3</td>\n",
       "      <td>2.0</td>\n",
       "      <td>55.4</td>\n",
       "      <td>1.4</td>\n",
       "      <td>29.2</td>\n",
       "      <td>3.8</td>\n",
       "      <td>11.7</td>\n",
       "      <td>12.0</td>\n",
       "      <td>31.8</td>\n",
       "    </tr>\n",
       "    <tr>\n",
       "      <th>3</th>\n",
       "      <td>29.0</td>\n",
       "      <td>8.7</td>\n",
       "      <td>23.2</td>\n",
       "      <td>21.1</td>\n",
       "      <td>8.4</td>\n",
       "      <td>16.8</td>\n",
       "      <td>21.2</td>\n",
       "      <td>7.2</td>\n",
       "      <td>0.3</td>\n",
       "      <td>25.8</td>\n",
       "      <td>2.7</td>\n",
       "      <td>30.6</td>\n",
       "      <td>1.3</td>\n",
       "      <td>7.5</td>\n",
       "      <td>6.4</td>\n",
       "      <td>20.2</td>\n",
       "    </tr>\n",
       "    <tr>\n",
       "      <th>4</th>\n",
       "      <td>22.9</td>\n",
       "      <td>6.0</td>\n",
       "      <td>19.4</td>\n",
       "      <td>18.2</td>\n",
       "      <td>10.2</td>\n",
       "      <td>18.3</td>\n",
       "      <td>23.0</td>\n",
       "      <td>5.3</td>\n",
       "      <td>2.2</td>\n",
       "      <td>14.3</td>\n",
       "      <td>0.9</td>\n",
       "      <td>23.9</td>\n",
       "      <td>2.3</td>\n",
       "      <td>4.8</td>\n",
       "      <td>1.0</td>\n",
       "      <td>16.9</td>\n",
       "    </tr>\n",
       "    <tr>\n",
       "      <th>...</th>\n",
       "      <td>...</td>\n",
       "      <td>...</td>\n",
       "      <td>...</td>\n",
       "      <td>...</td>\n",
       "      <td>...</td>\n",
       "      <td>...</td>\n",
       "      <td>...</td>\n",
       "      <td>...</td>\n",
       "      <td>...</td>\n",
       "      <td>...</td>\n",
       "      <td>...</td>\n",
       "      <td>...</td>\n",
       "      <td>...</td>\n",
       "      <td>...</td>\n",
       "      <td>...</td>\n",
       "      <td>...</td>\n",
       "    </tr>\n",
       "    <tr>\n",
       "      <th>1003</th>\n",
       "      <td>32.1</td>\n",
       "      <td>6.6</td>\n",
       "      <td>20.9</td>\n",
       "      <td>13.9</td>\n",
       "      <td>7.5</td>\n",
       "      <td>19.4</td>\n",
       "      <td>20.3</td>\n",
       "      <td>4.2</td>\n",
       "      <td>0.1</td>\n",
       "      <td>8.4</td>\n",
       "      <td>1.5</td>\n",
       "      <td>18.6</td>\n",
       "      <td>2.2</td>\n",
       "      <td>5.5</td>\n",
       "      <td>6.6</td>\n",
       "      <td>18.1</td>\n",
       "    </tr>\n",
       "    <tr>\n",
       "      <th>1004</th>\n",
       "      <td>26.6</td>\n",
       "      <td>7.3</td>\n",
       "      <td>22.4</td>\n",
       "      <td>13.5</td>\n",
       "      <td>8.2</td>\n",
       "      <td>17.6</td>\n",
       "      <td>23.0</td>\n",
       "      <td>8.0</td>\n",
       "      <td>0.4</td>\n",
       "      <td>5.9</td>\n",
       "      <td>1.6</td>\n",
       "      <td>19.9</td>\n",
       "      <td>2.6</td>\n",
       "      <td>6.4</td>\n",
       "      <td>0.9</td>\n",
       "      <td>20.3</td>\n",
       "    </tr>\n",
       "    <tr>\n",
       "      <th>1005</th>\n",
       "      <td>20.9</td>\n",
       "      <td>5.4</td>\n",
       "      <td>20.8</td>\n",
       "      <td>8.9</td>\n",
       "      <td>3.5</td>\n",
       "      <td>16.2</td>\n",
       "      <td>23.2</td>\n",
       "      <td>6.8</td>\n",
       "      <td>0.0</td>\n",
       "      <td>7.3</td>\n",
       "      <td>0.8</td>\n",
       "      <td>5.6</td>\n",
       "      <td>1.0</td>\n",
       "      <td>1.9</td>\n",
       "      <td>0.4</td>\n",
       "      <td>12.7</td>\n",
       "    </tr>\n",
       "    <tr>\n",
       "      <th>1006</th>\n",
       "      <td>25.9</td>\n",
       "      <td>5.2</td>\n",
       "      <td>18.0</td>\n",
       "      <td>7.9</td>\n",
       "      <td>3.7</td>\n",
       "      <td>22.3</td>\n",
       "      <td>20.1</td>\n",
       "      <td>4.8</td>\n",
       "      <td>0.0</td>\n",
       "      <td>8.1</td>\n",
       "      <td>0.4</td>\n",
       "      <td>20.5</td>\n",
       "      <td>2.7</td>\n",
       "      <td>5.4</td>\n",
       "      <td>1.5</td>\n",
       "      <td>14.8</td>\n",
       "    </tr>\n",
       "    <tr>\n",
       "      <th>1007</th>\n",
       "      <td>31.9</td>\n",
       "      <td>4.9</td>\n",
       "      <td>24.5</td>\n",
       "      <td>15.3</td>\n",
       "      <td>8.7</td>\n",
       "      <td>17.8</td>\n",
       "      <td>23.4</td>\n",
       "      <td>7.2</td>\n",
       "      <td>0.8</td>\n",
       "      <td>10.7</td>\n",
       "      <td>2.5</td>\n",
       "      <td>12.9</td>\n",
       "      <td>2.8</td>\n",
       "      <td>6.7</td>\n",
       "      <td>1.5</td>\n",
       "      <td>15.7</td>\n",
       "    </tr>\n",
       "  </tbody>\n",
       "</table>\n",
       "<p>1000 rows × 16 columns</p>\n",
       "</div>"
      ],
      "text/plain": [
       "      EP_POV150  EP_UNEMP  EP_HBURD  EP_NOHSDP  EP_UNINSUR  EP_AGE65  \\\n",
       "0          20.2       2.8      19.7        9.6         7.4      15.6   \n",
       "1          18.3       3.4      23.2        8.4         9.3      21.2   \n",
       "2          37.7       5.8      25.1       23.5        10.7      19.8   \n",
       "3          29.0       8.7      23.2       21.1         8.4      16.8   \n",
       "4          22.9       6.0      19.4       18.2        10.2      18.3   \n",
       "...         ...       ...       ...        ...         ...       ...   \n",
       "1003       32.1       6.6      20.9       13.9         7.5      19.4   \n",
       "1004       26.6       7.3      22.4       13.5         8.2      17.6   \n",
       "1005       20.9       5.4      20.8        8.9         3.5      16.2   \n",
       "1006       25.9       5.2      18.0        7.9         3.7      22.3   \n",
       "1007       31.9       4.9      24.5       15.3         8.7      17.8   \n",
       "\n",
       "      EP_AGE17  EP_SNGPNT  EP_LIMENG  EP_MINRTY  EP_MUNIT  EP_MOBILE  \\\n",
       "0         23.4        5.6        0.4       27.4       3.9       15.6   \n",
       "1         21.2        4.2        0.8       17.7      16.6       10.2   \n",
       "2         20.7       11.3        2.0       55.4       1.4       29.2   \n",
       "3         21.2        7.2        0.3       25.8       2.7       30.6   \n",
       "4         23.0        5.3        2.2       14.3       0.9       23.9   \n",
       "...        ...        ...        ...        ...       ...        ...   \n",
       "1003      20.3        4.2        0.1        8.4       1.5       18.6   \n",
       "1004      23.0        8.0        0.4        5.9       1.6       19.9   \n",
       "1005      23.2        6.8        0.0        7.3       0.8        5.6   \n",
       "1006      20.1        4.8        0.0        8.1       0.4       20.5   \n",
       "1007      23.4        7.2        0.8       10.7       2.5       12.9   \n",
       "\n",
       "      EP_CROWD  EP_NOVEH  EP_GROUPQ  EP_NOINT  \n",
       "0          1.4       4.0        0.9      10.9  \n",
       "1          1.9       2.3        1.5      10.9  \n",
       "2          3.8      11.7       12.0      31.8  \n",
       "3          1.3       7.5        6.4      20.2  \n",
       "4          2.3       4.8        1.0      16.9  \n",
       "...        ...       ...        ...       ...  \n",
       "1003       2.2       5.5        6.6      18.1  \n",
       "1004       2.6       6.4        0.9      20.3  \n",
       "1005       1.0       1.9        0.4      12.7  \n",
       "1006       2.7       5.4        1.5      14.8  \n",
       "1007       2.8       6.7        1.5      15.7  \n",
       "\n",
       "[1000 rows x 16 columns]"
      ]
     },
     "execution_count": 52,
     "metadata": {},
     "output_type": "execute_result"
    }
   ],
   "source": [
    "imputed_data.head(1000)"
   ]
  },
  {
   "cell_type": "markdown",
   "metadata": {},
   "source": [
    "I removed the entirely empty rows since they didn't contain useful information across any of the variables. For the remaining rows with partial missing data, I imputated the missing values. I decided to go with a mean imputation technique, since it is more straightforward. "
   ]
  },
  {
   "cell_type": "markdown",
   "metadata": {},
   "source": [
    " #### c. After dealing with the missing data, perform PCA on the SVI variables."
   ]
  },
  {
   "cell_type": "code",
   "execution_count": 53,
   "metadata": {},
   "outputs": [],
   "source": [
    "from sklearn.decomposition import PCA\n",
    "from sklearn.preprocessing import StandardScaler\n"
   ]
  },
  {
   "cell_type": "code",
   "execution_count": 54,
   "metadata": {},
   "outputs": [],
   "source": [
    "merge_columns_selection = ['EP_POV150', 'EP_UNEMP', 'EP_HBURD', 'EP_NOHSDP', 'EP_UNINSUR', 'EP_AGE65', 'EP_AGE17', 'EP_SNGPNT', 'EP_LIMENG', \n",
    "                      'EP_MINRTY', 'EP_MUNIT', 'EP_MOBILE', 'EP_CROWD', 'EP_NOVEH', 'EP_GROUPQ', 'EP_NOINT']\n"
   ]
  },
  {
   "cell_type": "code",
   "execution_count": 55,
   "metadata": {},
   "outputs": [],
   "source": [
    "scaler = StandardScaler()\n",
    "scaled_data = scaler.fit_transform(imputed_data)"
   ]
  },
  {
   "cell_type": "code",
   "execution_count": 56,
   "metadata": {},
   "outputs": [],
   "source": [
    "pca = PCA()\n",
    "pca_result = pca.fit_transform(scaled_data)"
   ]
  },
  {
   "cell_type": "code",
   "execution_count": 57,
   "metadata": {},
   "outputs": [],
   "source": [
    "pca_columns = [f'PC{i+1}' for i in range(pca_result.shape[1])]\n",
    "pca_df = pd.DataFrame(pca_result, columns=pca_columns)"
   ]
  },
  {
   "cell_type": "code",
   "execution_count": 58,
   "metadata": {},
   "outputs": [],
   "source": [
    "explained_variance = pca.explained_variance_ratio_\n"
   ]
  },
  {
   "cell_type": "code",
   "execution_count": 59,
   "metadata": {},
   "outputs": [],
   "source": [
    "pca_summary = {\n",
    "    'explained_variance': explained_variance,\n",
    "    'pca_results': pca_df.head()\n",
    "}\n"
   ]
  },
  {
   "cell_type": "code",
   "execution_count": 60,
   "metadata": {},
   "outputs": [
    {
     "data": {
      "text/plain": [
       "{'explained_variance': array([0.29499638, 0.17263208, 0.11231197, 0.07174727, 0.06271151,\n",
       "        0.06010755, 0.03865264, 0.03473028, 0.03131046, 0.02632549,\n",
       "        0.02610364, 0.02062725, 0.01627195, 0.01244262, 0.01015048,\n",
       "        0.00887841]),\n",
       " 'pca_results':         PC1       PC2       PC3       PC4       PC5       PC6       PC7  \\\n",
       " 0 -0.958324  0.491195  0.967823 -0.413259 -0.779127 -0.175108  0.089751   \n",
       " 1 -1.630961  1.197247 -0.239186  0.430627  0.298651 -0.711612 -0.223844   \n",
       " 2  4.305308 -1.746434 -1.364082  0.506453 -1.086883  0.754973 -0.679192   \n",
       " 3  1.889539 -1.472550 -0.847982 -0.326677 -1.050710 -0.048053  1.014097   \n",
       " 4  0.489712 -0.966858  1.048579 -0.060745 -0.028786 -0.322363  0.777216   \n",
       " \n",
       "         PC8       PC9      PC10      PC11      PC12      PC13      PC14  \\\n",
       " 0 -0.197950  0.567810  0.572513  0.216869 -0.115019 -0.480947  0.299091   \n",
       " 1  0.336012  0.987139  0.488645 -0.420124  0.159297  0.773096  0.127045   \n",
       " 2 -0.605670 -0.452660  0.860009  1.148837 -0.122374 -0.081505 -0.188504   \n",
       " 3 -1.036749  0.874155  0.116412 -0.277922 -0.521504 -0.380254 -0.301815   \n",
       " 4 -0.806942  0.725331 -0.131401 -0.079002 -0.539867 -0.208061 -0.406507   \n",
       " \n",
       "        PC15      PC16  \n",
       " 0  0.310378 -0.364606  \n",
       " 1  0.389700  0.614528  \n",
       " 2  0.145212  0.465924  \n",
       " 3  0.229031  0.495771  \n",
       " 4  0.090933  0.181735  }"
      ]
     },
     "execution_count": 60,
     "metadata": {},
     "output_type": "execute_result"
    }
   ],
   "source": [
    "pca_summary\n"
   ]
  },
  {
   "cell_type": "markdown",
   "metadata": {},
   "source": [
    "#### 1. Plot the eigenvectors or loadings associated of the first three principal components. Make sure that the axis labels correspond to the variable names and not the indices of the variables. How would you interpret the first three prinicpal components? Note: you can find the documentation for the SVI variables [here](https://www.atsdr.cdc.gov/placeandhealth/svi/documentation/SVI_documentation_2022.html)."
   ]
  },
  {
   "cell_type": "code",
   "execution_count": 61,
   "metadata": {},
   "outputs": [],
   "source": [
    "import matplotlib.pyplot as plt\n",
    "import matplotlib\n",
    "import numpy as np"
   ]
  },
  {
   "cell_type": "code",
   "execution_count": 62,
   "metadata": {},
   "outputs": [],
   "source": [
    "cleaned_data = subset_merge[merge_columns_selection].dropna(how='all').fillna(subset_merge[merge_columns_selection].mean())"
   ]
  },
  {
   "cell_type": "code",
   "execution_count": 63,
   "metadata": {},
   "outputs": [],
   "source": [
    "scaler = StandardScaler()\n",
    "scaled_data = scaler.fit_transform(cleaned_data)"
   ]
  },
  {
   "cell_type": "code",
   "execution_count": 64,
   "metadata": {},
   "outputs": [],
   "source": [
    "pca = PCA() \n",
    "pca_result = pca.fit_transform(scaled_data)"
   ]
  },
  {
   "cell_type": "code",
   "execution_count": 65,
   "metadata": {},
   "outputs": [],
   "source": [
    "loadings = pca.components_.T "
   ]
  },
  {
   "cell_type": "code",
   "execution_count": 66,
   "metadata": {},
   "outputs": [
    {
     "data": {
      "text/plain": [
       "{'explained_variance_ratio': array([0.29499638, 0.17263208, 0.11231197, 0.07174727, 0.06271151,\n",
       "        0.06010755, 0.03865264, 0.03473028, 0.03131046, 0.02632549,\n",
       "        0.02610364, 0.02062725, 0.01627195, 0.01244262, 0.01015048,\n",
       "        0.00887841]),\n",
       " 'pc1_interpretation': 'PC1 identifies the main variance contributors, often related to socio-economic stressors.',\n",
       " 'pc2_interpretation': 'PC2 may reveal variance related to demographic or age-related variables.',\n",
       " 'pc3_interpretation': 'PC3 could highlight unique patterns not captured by the first two PCs.'}"
      ]
     },
     "execution_count": 66,
     "metadata": {},
     "output_type": "execute_result"
    }
   ],
   "source": [
    "explained_variance_ratio = pca.explained_variance_ratio_\n",
    "\n",
    "interpretation = {\n",
    "    'explained_variance_ratio': explained_variance_ratio,\n",
    "    'pc1_interpretation': \"PC1 identifies the main variance contributors, often related to socio-economic stressors.\",\n",
    "    'pc2_interpretation': \"PC2 may reveal variance related to demographic or age-related variables.\",\n",
    "    'pc3_interpretation': \"PC3 could highlight unique patterns not captured by the first two PCs.\"\n",
    "}\n",
    "\n",
    "interpretation"
   ]
  },
  {
   "cell_type": "code",
   "execution_count": 67,
   "metadata": {},
   "outputs": [
    {
     "name": "stdout",
     "output_type": "stream",
     "text": [
      "Loadings shape: (16, 16), Variables: 16\n"
     ]
    }
   ],
   "source": [
    "print(f\"Loadings shape: {loadings.shape}, Variables: {len(merge_columns_selection)}\")\n"
   ]
  },
  {
   "cell_type": "code",
   "execution_count": 68,
   "metadata": {},
   "outputs": [],
   "source": [
    "scaled_loadings = loadings * 100  # Scale the loadings for better visualization\n"
   ]
  },
  {
   "cell_type": "code",
   "execution_count": 69,
   "metadata": {},
   "outputs": [
    {
     "data": {
      "image/png": "[encoded data removed]",
      "text/plain": [
       "<Figure size 1800x600 with 3 Axes>"
      ]
     },
     "metadata": {},
     "output_type": "display_data"
    }
   ],
   "source": [
    "fig, axes = plt.subplots(1, 3, figsize=(18, 6), sharey=True)\n",
    "\n",
    "for i, ax in enumerate(axes):\n",
    "    ax.barh(merge_columns_selection, scaled_loadings[:, i], color='skyblue')\n",
    "    ax.set_title(f'Principal Component {i + 1}')\n",
    "    ax.set_xlabel('Loading (Scaled)')\n",
    "    ax.grid(True)\n",
    "\n",
    "plt.tight_layout()\n",
    "plt.show()"
   ]
  },
  {
   "cell_type": "markdown",
   "metadata": {},
   "source": [
    "PC1 focuses on identifying the variables that explain the largest amount of variance in the data.  This component captures socio-economic stress factors such as poverty, unemployment, crowding, and housing burden."
   ]
  },
  {
   "cell_type": "markdown",
   "metadata": {},
   "source": [
    "PC2 captures additional variance orthogonal to PC1 . In this case, PC2 captures disparities related to minority status, limited English proficiency, and low education levels. "
   ]
  },
  {
   "cell_type": "markdown",
   "metadata": {},
   "source": [
    "PC3 captures variance not explained by the first two components. This component focuses on age-related and healthcare vulnerabilities, highlighting age-related and healthcare vulnerabilities, reflecting areas with high proportions of elderly individuals, uninsured populations, and educational barriers. "
   ]
  },
  {
   "cell_type": "markdown",
   "metadata": {},
   "source": [
    "#### 1. There are several different ways to determine the number of principal components to retain. One common method is to retain principal components that explain a certain percentage of the variance in the data. "
   ]
  },
  {
   "cell_type": "markdown",
   "metadata": {},
   "source": [
    "#### a. How many principal components are needed to explain 80% of the variance in the data?"
   ]
  },
  {
   "cell_type": "code",
   "execution_count": 70,
   "metadata": {},
   "outputs": [],
   "source": [
    "cumulative_variance = np.cumsum(pca.explained_variance_ratio_)"
   ]
  },
  {
   "cell_type": "code",
   "execution_count": 71,
   "metadata": {},
   "outputs": [],
   "source": [
    "n_components_80 = np.searchsorted(cumulative_variance, 0.80) + 1 "
   ]
  },
  {
   "cell_type": "code",
   "execution_count": 72,
   "metadata": {},
   "outputs": [
    {
     "name": "stdout",
     "output_type": "stream",
     "text": [
      "Number of components needed to explain at least 80% of the variance: 7\n"
     ]
    }
   ],
   "source": [
    "print(f\"Number of components needed to explain at least 80% of the variance: {n_components_80}\")\n"
   ]
  },
  {
   "cell_type": "markdown",
   "metadata": {},
   "source": [
    "#### b. How many principal components are needed to explain 90% of the variance in the data?\n"
   ]
  },
  {
   "cell_type": "code",
   "execution_count": 73,
   "metadata": {},
   "outputs": [],
   "source": [
    "n_components_90 = np.searchsorted(cumulative_variance, 0.90) + 1 "
   ]
  },
  {
   "cell_type": "code",
   "execution_count": 74,
   "metadata": {},
   "outputs": [
    {
     "name": "stdout",
     "output_type": "stream",
     "text": [
      "Number of components needed to explain at least 90% of the variance: 10\n"
     ]
    }
   ],
   "source": [
    "print(f\"Number of components needed to explain at least 90% of the variance: {n_components_90}\")\n"
   ]
  },
  {
   "cell_type": "markdown",
   "metadata": {},
   "source": [
    "#### 1. An alternative approach is to plot the eigenvalues of the principal components and retain the components that are above the \"elbow\" in the plot. In other words the eigenvalues that are substantially larger than the rest.\n"
   ]
  },
  {
   "cell_type": "markdown",
   "metadata": {},
   "source": [
    "#### a. Create a [scree plot](https://en.wikipedia.org/wiki/Scree_plot) of the eigenvalues of the principal components.\n"
   ]
  },
  {
   "cell_type": "code",
   "execution_count": 75,
   "metadata": {},
   "outputs": [],
   "source": [
    "eigenvalues = pca.explained_variance_"
   ]
  },
  {
   "cell_type": "code",
   "execution_count": 76,
   "metadata": {},
   "outputs": [
    {
     "data": {
      "image/png": "[encoded data removed]",
      "text/plain": [
       "<Figure size 1000x600 with 1 Axes>"
      ]
     },
     "metadata": {},
     "output_type": "display_data"
    }
   ],
   "source": [
    "plt.figure(figsize=(10, 6))\n",
    "plt.plot(range(1, len(eigenvalues) + 1), eigenvalues, marker='o', linestyle='--')\n",
    "plt.title('Scree Plot of Eigenvalues')\n",
    "plt.xlabel('Principal Component')\n",
    "plt.ylabel('Eigenvalue')\n",
    "plt.xticks(range(1, len(eigenvalues) + 1))\n",
    "plt.grid(True)\n",
    "plt.show()\n"
   ]
  },
  {
   "cell_type": "markdown",
   "metadata": {},
   "source": [
    "#### b. How many principal components should be retained based on the scree plot?"
   ]
  },
  {
   "cell_type": "markdown",
   "metadata": {},
   "source": [
    "Using the rule of thumb, 3 components would capture most of the meaningful variance since the slope starts to flatten after the third component"
   ]
  },
  {
   "cell_type": "markdown",
   "metadata": {},
   "source": [
    "#### 1. Cross-validation is another method to determine the number of principal components to retain.\n",
    "#### This process requires some linear algebra that is beyond the scope of this course.\n",
    "#### As such, I have written example [code](https://github.com/gabehassler/PRGS-Intro-to-ML-2024/blob/main/examples/pca_cross_validation.jl) in Julia that demonstrates how to perform cross-validation.\n",
    "#### This procedure is a simplified versionof an approach explained in this [blog post](https://alexhwilliams.info/itsneuronalblog/2018/02/26/crossval/).\n",
    "#### For the purposes of this assignment, the `pca_cv_error` function is a black box that returns the cross-validation error for a given number of principal components."
   ]
  },
  {
   "cell_type": "markdown",
   "metadata": {},
   "source": [
    "#### a. Compute the cross-validation error for 1 to 17 principal components. If this process is parallelizable, parallelize the code. If setting a random number seed would make this work more reproducible, set a random number seed.\n"
   ]
  },
  {
   "cell_type": "code",
   "execution_count": 77,
   "metadata": {},
   "outputs": [
    {
     "name": "stdout",
     "output_type": "stream",
     "text": [
      "Optimal number of principal components: 6\n"
     ]
    }
   ],
   "source": [
    "from sklearn.model_selection import KFold\n",
    "# Approximates the data matrix X using the first k principal components\n",
    "def pca_approx(X, k):\n",
    "    # Compute the SVD of X\n",
    "    U, S, Vt = np.linalg.svd(X, full_matrices=False)\n",
    "    # Take the first k components\n",
    "    Uk = U[:, :k]\n",
    "    Sk = np.diag(S[:k])\n",
    "    Vtk = Vt[:k, :]\n",
    "    # Reconstruct the approximation of X\n",
    "    return Uk @ Sk @ Vtk\n",
    "\n",
    "# Computes the cross-validated error of approximating X using the first k principal components\n",
    "def pca_cv_error(X, k, folds):\n",
    "    fs = np.unique(folds)\n",
    "    # Compute the column-wise mean of X\n",
    "    means = np.mean(X, axis=0)\n",
    "    # Initialize the vector to store the errors\n",
    "    errs = np.zeros(len(fs))\n",
    "\n",
    "    # Loop over the folds\n",
    "    for idx, f in enumerate(fs):\n",
    "        # Create a copy of X with the values of fold f replaced by the column means\n",
    "        X_cv = X.copy()\n",
    "        # Replace the values for the current fold with the column means\n",
    "        X_cv[folds == f] = np.take(means, np.where(folds == f)[1])\n",
    "        # Approximate X_cv using the first k principal components\n",
    "        X_hat = pca_approx(X_cv, k)\n",
    "        # Compute the error only for the replaced values\n",
    "        err = np.sum((X_hat[folds == f] - X[folds == f]) ** 2)\n",
    "        errs[idx] = err\n",
    "\n",
    "    # Return the average error\n",
    "    return np.sum(errs) / X.size\n",
    "\n",
    "# Load the data\n",
    "data = pd.read_csv('/Users/alejandroroacontreras/Library/CloudStorage/GoogleDrive-alejandro.roa.cs@gmail.com/Mi unidad/Pardee Rand Graduate School/Year 2/Introduction to ML/code/PRGS-Intro-to-ML-2024/data/processed/merged_data.csv')\n",
    "\n",
    "# Subset and clean the data\n",
    "vars = [\n",
    "    \"EP_POV150\", \"EP_UNEMP\", \"EP_HBURD\", \"EP_NOHSDP\", \"EP_UNINSUR\",\n",
    "    \"EP_AGE65\", \"EP_AGE17\", \"EP_DISABL\", \"EP_SNGPNT\", \"EP_LIMENG\",\n",
    "    \"EP_MINRTY\", \"EP_MUNIT\", \"EP_MOBILE\", \"EP_CROWD\", \"EP_NOVEH\",\n",
    "    \"EP_GROUPQ\", \"EP_NOINT\"\n",
    "]\n",
    "data_svi = data[vars].dropna()\n",
    "\n",
    "# Convert the data to a matrix and standardize it\n",
    "X = data_svi.to_numpy()\n",
    "mu = X.mean(axis=0)\n",
    "sd = X.std(axis=0)\n",
    "X = (X - mu) / sd\n",
    "\n",
    "# Create a matrix of random folds\n",
    "n_folds = 20\n",
    "folds = np.random.randint(1, n_folds + 1, size=X.shape)\n",
    "\n",
    "# Compute the cross-validated error for k = 1 to 17 principal components\n",
    "errors = [pca_cv_error(X, k, folds) for k in range(1, 18)]\n",
    "\n",
    "# Find the optimal number of components (the one with the smallest error)\n",
    "optimal_k = np.argmin(errors) + 1  # +1 for 1-based index\n",
    "\n",
    "# Display the optimal number of components\n",
    "print(f\"Optimal number of principal components: {optimal_k}\")"
   ]
  },
  {
   "cell_type": "markdown",
   "metadata": {},
   "source": [
    "#### a. How many principal components should be retained based on the cross-validation error?"
   ]
  },
  {
   "cell_type": "markdown",
   "metadata": {},
   "source": [
    "6 in total"
   ]
  }
 ],
 "metadata": {
  "kernelspec": {
   "display_name": "Python 3",
   "language": "python",
   "name": "python3"
  },
  "language_info": {
   "codemirror_mode": {
    "name": "ipython",
    "version": 3
   },
   "file_extension": ".py",
   "mimetype": "text/x-python",
   "name": "python",
   "nbconvert_exporter": "python",
   "pygments_lexer": "ipython3",
   "version": "3.9.6"
  }
 },
 "nbformat": 4,
 "nbformat_minor": 2
}
